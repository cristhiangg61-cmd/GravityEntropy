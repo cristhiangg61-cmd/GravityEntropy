{
  "cells": [
    {
      "cell_type": "markdown",
      "metadata": {},
      "source": [
        "# 🌌 Prototipo: IA para Identificar Estrellas y Detectar Posibles Galaxias\n",
        "\n",
        "Este notebook guía paso a paso (para principiantes) cómo:\n",
        "1. Descargar datos reales de **Gaia DR3**\n",
        "2. Prepararlos para *machine learning*\n",
        "3. Entrenar un modelo sencillo para clasificar estrellas (azul/roja)\n",
        "4. Visualizar la estructura de la Vía Láctea (diagrama color–magnitud)\n",
        "5. Detectar **anomalías** que podrían indicar galaxias o cúmulos\n",
        "\n",
        "> Requisitos: Python 3.9+, `pip install -r requirements.txt`\n"
      ]
    },
    {
      "cell_type": "code",
      "execution_count": null,
      "metadata": {},
      "outputs": [],
      "source": [
        "!pip -q install astroquery astropy pandas lightgbm scikit-learn matplotlib"
      ]
    },
    {
      "cell_type": "markdown",
      "metadata": {},
      "source": [
        "## 1) Descargar datos (Gaia DR3)\n",
        "Limitamos a 50k filas para mantenerlo ligero."
      ]
    },
    {
      "cell_type": "code",
      "execution_count": null,
      "metadata": {},
      "outputs": [],
      "source": [
        "from astroquery.gaia import Gaia\n",
        "import pandas as pd\n",
        "\n",
        "query = \"\"\"\n",
        "SELECT TOP 50000\n",
        "  source_id, ra, dec, parallax, pmra, pmdec,\n",
        "  phot_g_mean_mag, bp_rp, ruwe\n",
        "FROM gaiadr3.gaia_source\n",
        "WHERE ruwe < 1.4 AND parallax_over_error > 5\n",
        "\"\"\"\n",
        "print(\"Lanzando consulta a Gaia...\")\n",
        "job = Gaia.launch_job_async(query)\n",
        "gaia = job.get_results().to_pandas()\n",
        "gaia.to_csv(\"data/estrellas_gaia.csv\", index=False)\n",
        "len(gaia)"
      ]
    },
    {
      "cell_type": "markdown",
      "metadata": {},
      "source": [
        "## 2) Preparar datos\n",
        "- Convertimos paralaje a distancia (parsecs)\n",
        "- Calculamos la magnitud absoluta `MG`\n",
        "- Eliminamos nulos"
      ]
    },
    {
      "cell_type": "code",
      "execution_count": null,
      "metadata": {},
      "outputs": [],
      "source": [
        "import numpy as np\n",
        "import pandas as pd\n",
        "data = pd.read_csv(\"data/estrellas_gaia.csv\")\n",
        "data[\"dist_pc\"] = 1000.0 / data[\"parallax\"]\n",
        "data[\"MG\"] = data[\"phot_g_mean_mag\"] - 5*np.log10(data[\"dist_pc\"]/10)\n",
        "data = data.dropna(subset=[\"bp_rp\", \"MG\"])\n",
        "data.to_csv(\"data/estrellas_limpias.csv\", index=False)\n",
        "len(data)"
      ]
    },
    {
      "cell_type": "markdown",
      "metadata": {},
      "source": [
        "## 3) Entrenar IA sencilla (clasificar azul/roja)\n",
        "Esto es **didáctico**: usamos el color `BP-RP` para crear etiquetas."
      ]
    },
    {
      "cell_type": "code",
      "execution_count": null,
      "metadata": {},
      "outputs": [],
      "source": [
        "from sklearn.model_selection import train_test_split\n",
        "from lightgbm import LGBMClassifier\n",
        "from sklearn.metrics import classification_report\n",
        "import pandas as pd\n",
        "\n",
        "data = pd.read_csv(\"data/estrellas_limpias.csv\")\n",
        "data[\"tipo\"] = data[\"bp_rp\"].apply(lambda x: \"Azul\" if x < 0.8 else \"Roja\")\n",
        "X = data[[\"bp_rp\", \"MG\", \"parallax\", \"pmra\", \"pmdec\"]]\n",
        "y = data[\"tipo\"]\n",
        "X_train, X_test, y_train, y_test = train_test_split(X, y, test_size=0.2, random_state=42, stratify=y)\n",
        "model = LGBMClassifier()\n",
        "model.fit(X_train, y_train)\n",
        "y_pred = model.predict(X_test)\n",
        "print(classification_report(y_test, y_pred))"
      ]
    },
    {
      "cell_type": "markdown",
      "metadata": {},
      "source": [
        "## 4) Visualizar la Vía Láctea (diagrama color–magnitud)"
      ]
    },
    {
      "cell_type": "code",
      "execution_count": null,
      "metadata": {},
      "outputs": [],
      "source": [
        "import pandas as pd\n",
        "import matplotlib.pyplot as plt\n",
        "data = pd.read_csv(\"data/estrellas_limpias.csv\")\n",
        "plt.figure(figsize=(8,6))\n",
        "plt.scatter(data[\"bp_rp\"], data[\"MG\"], s=1)\n",
        "plt.gca().invert_yaxis()\n",
        "plt.xlabel(\"Color (BP - RP)\")\n",
        "plt.ylabel(\"Magnitud Absoluta (MG)\")\n",
        "plt.title(\"Diagrama Color-Magnitud - Vía Láctea (Gaia DR3)\")\n",
        "plt.show()"
      ]
    },
    {
      "cell_type": "markdown",
      "metadata": {},
      "source": [
        "## 5) Detectar anomalías (posibles galaxias/cúmulos)\n",
        "Usamos `IsolationForest` para encontrar objetos que no siguen el patrón típico."
      ]
    },
    {
      "cell_type": "code",
      "execution_count": null,
      "metadata": {},
      "outputs": [],
      "source": [
        "from sklearn.ensemble import IsolationForest\n",
        "import pandas as pd\n",
        "data = pd.read_csv(\"data/estrellas_limpias.csv\")\n",
        "X = data[[\"bp_rp\", \"MG\"]]\n",
        "model = IsolationForest(contamination=0.01, random_state=42)\n",
        "model.fit(X)\n",
        "data[\"anomalia\"] = model.predict(X)\n",
        "anomalias = data[data[\"anomalia\"] == -1]\n",
        "anomalias.to_csv(\"data/posibles_galaxias.csv\", index=False)\n",
        "len(anomalias)"
      ]
    },
    {
      "cell_type": "markdown",
      "metadata": {},
      "source": [
        "### ✅ ¡Listo!\n",
        "- `data/estrellas_gaia.csv`: datos descargados\n",
        "- `data/estrellas_limpias.csv`: datos preparados\n",
        "- `data/posibles_galaxias.csv`: anomalías detectadas\n",
        "\n",
        "Siguientes pasos (opcional):\n",
        "- Probar más columnas de Gaia (velocidad radial, RUWE, etc.)\n",
        "- Mejorar la clasificación (más clases espectrales)\n",
        "- Unir datos de SDSS/LAMOST para etiquetas reales de espectros\n"
      ]
    }
  ],
  "metadata": {
    "kernelspec": {
      "display_name": "Python 3",
      "language": "python",
      "name": "python3"
    },
    "language_info": {
      "name": "python",
      "version": "3.x"
    }
  },
  "nbformat": 4,
  "nbformat_minor": 5
}